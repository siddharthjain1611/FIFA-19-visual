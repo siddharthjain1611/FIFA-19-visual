{
 "cells": [
  {
   "cell_type": "code",
   "execution_count": 2,
   "metadata": {
    "_cell_guid": "b1076dfc-b9ad-4769-8c92-a6c4dae69d19",
    "_uuid": "8f2839f25d086af736a60e9eeb907d3b93b6e0e5"
   },
   "outputs": [],
   "source": [
    "# This Python 3 environment comes with many helpful analytics libraries installed\n",
    "import numpy as np # linear algebra\n",
    "import pandas as pd # data processing, CSV file I/O (e.g. pd.read_csv)\n",
    "import seaborn as sns\n",
    "import matplotlib.pyplot as plt"
   ]
  },
  {
   "cell_type": "code",
   "execution_count": 3,
   "metadata": {
    "_cell_guid": "79c7e3d0-c299-4dcb-8224-4455121ee9b0",
    "_uuid": "d629ff2d2480ee46fbb7e2d37f6b5fab8052498a"
   },
   "outputs": [],
   "source": [
    "fifa_df = pd.read_csv(\"data.csv\")"
   ]
  },
  {
   "cell_type": "code",
   "execution_count": 4,
   "metadata": {
    "_uuid": "b488b3a31452acb11e7002c76146ea2858cbf786"
   },
   "outputs": [
    {
     "data": {
      "text/html": [
       "<div>\n",
       "<style scoped>\n",
       "    .dataframe tbody tr th:only-of-type {\n",
       "        vertical-align: middle;\n",
       "    }\n",
       "\n",
       "    .dataframe tbody tr th {\n",
       "        vertical-align: top;\n",
       "    }\n",
       "\n",
       "    .dataframe thead th {\n",
       "        text-align: right;\n",
       "    }\n",
       "</style>\n",
       "<table border=\"1\" class=\"dataframe\">\n",
       "  <thead>\n",
       "    <tr style=\"text-align: right;\">\n",
       "      <th></th>\n",
       "      <th>Unnamed: 0</th>\n",
       "      <th>ID</th>\n",
       "      <th>Name</th>\n",
       "      <th>Age</th>\n",
       "      <th>Photo</th>\n",
       "      <th>Nationality</th>\n",
       "      <th>Flag</th>\n",
       "      <th>Overall</th>\n",
       "      <th>Potential</th>\n",
       "      <th>Club</th>\n",
       "      <th>...</th>\n",
       "      <th>Composure</th>\n",
       "      <th>Marking</th>\n",
       "      <th>StandingTackle</th>\n",
       "      <th>SlidingTackle</th>\n",
       "      <th>GKDiving</th>\n",
       "      <th>GKHandling</th>\n",
       "      <th>GKKicking</th>\n",
       "      <th>GKPositioning</th>\n",
       "      <th>GKReflexes</th>\n",
       "      <th>Release Clause</th>\n",
       "    </tr>\n",
       "  </thead>\n",
       "  <tbody>\n",
       "    <tr>\n",
       "      <th>0</th>\n",
       "      <td>0</td>\n",
       "      <td>158023</td>\n",
       "      <td>L. Messi</td>\n",
       "      <td>31</td>\n",
       "      <td>https://cdn.sofifa.org/players/4/19/158023.png</td>\n",
       "      <td>Argentina</td>\n",
       "      <td>https://cdn.sofifa.org/flags/52.png</td>\n",
       "      <td>94</td>\n",
       "      <td>94</td>\n",
       "      <td>FC Barcelona</td>\n",
       "      <td>...</td>\n",
       "      <td>96.0</td>\n",
       "      <td>33.0</td>\n",
       "      <td>28.0</td>\n",
       "      <td>26.0</td>\n",
       "      <td>6.0</td>\n",
       "      <td>11.0</td>\n",
       "      <td>15.0</td>\n",
       "      <td>14.0</td>\n",
       "      <td>8.0</td>\n",
       "      <td>€226.5M</td>\n",
       "    </tr>\n",
       "    <tr>\n",
       "      <th>1</th>\n",
       "      <td>1</td>\n",
       "      <td>20801</td>\n",
       "      <td>Cristiano Ronaldo</td>\n",
       "      <td>33</td>\n",
       "      <td>https://cdn.sofifa.org/players/4/19/20801.png</td>\n",
       "      <td>Portugal</td>\n",
       "      <td>https://cdn.sofifa.org/flags/38.png</td>\n",
       "      <td>94</td>\n",
       "      <td>94</td>\n",
       "      <td>Juventus</td>\n",
       "      <td>...</td>\n",
       "      <td>95.0</td>\n",
       "      <td>28.0</td>\n",
       "      <td>31.0</td>\n",
       "      <td>23.0</td>\n",
       "      <td>7.0</td>\n",
       "      <td>11.0</td>\n",
       "      <td>15.0</td>\n",
       "      <td>14.0</td>\n",
       "      <td>11.0</td>\n",
       "      <td>€127.1M</td>\n",
       "    </tr>\n",
       "    <tr>\n",
       "      <th>2</th>\n",
       "      <td>2</td>\n",
       "      <td>190871</td>\n",
       "      <td>Neymar Jr</td>\n",
       "      <td>26</td>\n",
       "      <td>https://cdn.sofifa.org/players/4/19/190871.png</td>\n",
       "      <td>Brazil</td>\n",
       "      <td>https://cdn.sofifa.org/flags/54.png</td>\n",
       "      <td>92</td>\n",
       "      <td>93</td>\n",
       "      <td>Paris Saint-Germain</td>\n",
       "      <td>...</td>\n",
       "      <td>94.0</td>\n",
       "      <td>27.0</td>\n",
       "      <td>24.0</td>\n",
       "      <td>33.0</td>\n",
       "      <td>9.0</td>\n",
       "      <td>9.0</td>\n",
       "      <td>15.0</td>\n",
       "      <td>15.0</td>\n",
       "      <td>11.0</td>\n",
       "      <td>€228.1M</td>\n",
       "    </tr>\n",
       "    <tr>\n",
       "      <th>3</th>\n",
       "      <td>3</td>\n",
       "      <td>193080</td>\n",
       "      <td>De Gea</td>\n",
       "      <td>27</td>\n",
       "      <td>https://cdn.sofifa.org/players/4/19/193080.png</td>\n",
       "      <td>Spain</td>\n",
       "      <td>https://cdn.sofifa.org/flags/45.png</td>\n",
       "      <td>91</td>\n",
       "      <td>93</td>\n",
       "      <td>Manchester United</td>\n",
       "      <td>...</td>\n",
       "      <td>68.0</td>\n",
       "      <td>15.0</td>\n",
       "      <td>21.0</td>\n",
       "      <td>13.0</td>\n",
       "      <td>90.0</td>\n",
       "      <td>85.0</td>\n",
       "      <td>87.0</td>\n",
       "      <td>88.0</td>\n",
       "      <td>94.0</td>\n",
       "      <td>€138.6M</td>\n",
       "    </tr>\n",
       "    <tr>\n",
       "      <th>4</th>\n",
       "      <td>4</td>\n",
       "      <td>192985</td>\n",
       "      <td>K. De Bruyne</td>\n",
       "      <td>27</td>\n",
       "      <td>https://cdn.sofifa.org/players/4/19/192985.png</td>\n",
       "      <td>Belgium</td>\n",
       "      <td>https://cdn.sofifa.org/flags/7.png</td>\n",
       "      <td>91</td>\n",
       "      <td>92</td>\n",
       "      <td>Manchester City</td>\n",
       "      <td>...</td>\n",
       "      <td>88.0</td>\n",
       "      <td>68.0</td>\n",
       "      <td>58.0</td>\n",
       "      <td>51.0</td>\n",
       "      <td>15.0</td>\n",
       "      <td>13.0</td>\n",
       "      <td>5.0</td>\n",
       "      <td>10.0</td>\n",
       "      <td>13.0</td>\n",
       "      <td>€196.4M</td>\n",
       "    </tr>\n",
       "  </tbody>\n",
       "</table>\n",
       "<p>5 rows × 89 columns</p>\n",
       "</div>"
      ],
      "text/plain": [
       "   Unnamed: 0      ID               Name  Age  \\\n",
       "0           0  158023           L. Messi   31   \n",
       "1           1   20801  Cristiano Ronaldo   33   \n",
       "2           2  190871          Neymar Jr   26   \n",
       "3           3  193080             De Gea   27   \n",
       "4           4  192985       K. De Bruyne   27   \n",
       "\n",
       "                                            Photo Nationality  \\\n",
       "0  https://cdn.sofifa.org/players/4/19/158023.png   Argentina   \n",
       "1   https://cdn.sofifa.org/players/4/19/20801.png    Portugal   \n",
       "2  https://cdn.sofifa.org/players/4/19/190871.png      Brazil   \n",
       "3  https://cdn.sofifa.org/players/4/19/193080.png       Spain   \n",
       "4  https://cdn.sofifa.org/players/4/19/192985.png     Belgium   \n",
       "\n",
       "                                  Flag  Overall  Potential  \\\n",
       "0  https://cdn.sofifa.org/flags/52.png       94         94   \n",
       "1  https://cdn.sofifa.org/flags/38.png       94         94   \n",
       "2  https://cdn.sofifa.org/flags/54.png       92         93   \n",
       "3  https://cdn.sofifa.org/flags/45.png       91         93   \n",
       "4   https://cdn.sofifa.org/flags/7.png       91         92   \n",
       "\n",
       "                  Club      ...       Composure Marking StandingTackle  \\\n",
       "0         FC Barcelona      ...            96.0    33.0           28.0   \n",
       "1             Juventus      ...            95.0    28.0           31.0   \n",
       "2  Paris Saint-Germain      ...            94.0    27.0           24.0   \n",
       "3    Manchester United      ...            68.0    15.0           21.0   \n",
       "4      Manchester City      ...            88.0    68.0           58.0   \n",
       "\n",
       "   SlidingTackle GKDiving  GKHandling  GKKicking  GKPositioning GKReflexes  \\\n",
       "0           26.0      6.0        11.0       15.0           14.0        8.0   \n",
       "1           23.0      7.0        11.0       15.0           14.0       11.0   \n",
       "2           33.0      9.0         9.0       15.0           15.0       11.0   \n",
       "3           13.0     90.0        85.0       87.0           88.0       94.0   \n",
       "4           51.0     15.0        13.0        5.0           10.0       13.0   \n",
       "\n",
       "  Release Clause  \n",
       "0        €226.5M  \n",
       "1        €127.1M  \n",
       "2        €228.1M  \n",
       "3        €138.6M  \n",
       "4        €196.4M  \n",
       "\n",
       "[5 rows x 89 columns]"
      ]
     },
     "execution_count": 4,
     "metadata": {},
     "output_type": "execute_result"
    }
   ],
   "source": [
    "fifa_df.head(5)"
   ]
  },
  {
   "cell_type": "code",
   "execution_count": 5,
   "metadata": {
    "_uuid": "474373bbd2cff2a03499da34697df7885ff811ac"
   },
   "outputs": [
    {
     "name": "stdout",
     "output_type": "stream",
     "text": [
      "<class 'pandas.core.frame.DataFrame'>\n",
      "RangeIndex: 18207 entries, 0 to 18206\n",
      "Data columns (total 89 columns):\n",
      "Unnamed: 0                  18207 non-null int64\n",
      "ID                          18207 non-null int64\n",
      "Name                        18207 non-null object\n",
      "Age                         18207 non-null int64\n",
      "Photo                       18207 non-null object\n",
      "Nationality                 18207 non-null object\n",
      "Flag                        18207 non-null object\n",
      "Overall                     18207 non-null int64\n",
      "Potential                   18207 non-null int64\n",
      "Club                        17966 non-null object\n",
      "Club Logo                   18207 non-null object\n",
      "Value                       18207 non-null object\n",
      "Wage                        18207 non-null object\n",
      "Special                     18207 non-null int64\n",
      "Preferred Foot              18159 non-null object\n",
      "International Reputation    18159 non-null float64\n",
      "Weak Foot                   18159 non-null float64\n",
      "Skill Moves                 18159 non-null float64\n",
      "Work Rate                   18159 non-null object\n",
      "Body Type                   18159 non-null object\n",
      "Real Face                   18159 non-null object\n",
      "Position                    18147 non-null object\n",
      "Jersey Number               18147 non-null float64\n",
      "Joined                      16654 non-null object\n",
      "Loaned From                 1264 non-null object\n",
      "Contract Valid Until        17918 non-null object\n",
      "Height                      18159 non-null object\n",
      "Weight                      18159 non-null object\n",
      "LS                          16122 non-null object\n",
      "ST                          16122 non-null object\n",
      "RS                          16122 non-null object\n",
      "LW                          16122 non-null object\n",
      "LF                          16122 non-null object\n",
      "CF                          16122 non-null object\n",
      "RF                          16122 non-null object\n",
      "RW                          16122 non-null object\n",
      "LAM                         16122 non-null object\n",
      "CAM                         16122 non-null object\n",
      "RAM                         16122 non-null object\n",
      "LM                          16122 non-null object\n",
      "LCM                         16122 non-null object\n",
      "CM                          16122 non-null object\n",
      "RCM                         16122 non-null object\n",
      "RM                          16122 non-null object\n",
      "LWB                         16122 non-null object\n",
      "LDM                         16122 non-null object\n",
      "CDM                         16122 non-null object\n",
      "RDM                         16122 non-null object\n",
      "RWB                         16122 non-null object\n",
      "LB                          16122 non-null object\n",
      "LCB                         16122 non-null object\n",
      "CB                          16122 non-null object\n",
      "RCB                         16122 non-null object\n",
      "RB                          16122 non-null object\n",
      "Crossing                    18159 non-null float64\n",
      "Finishing                   18159 non-null float64\n",
      "HeadingAccuracy             18159 non-null float64\n",
      "ShortPassing                18159 non-null float64\n",
      "Volleys                     18159 non-null float64\n",
      "Dribbling                   18159 non-null float64\n",
      "Curve                       18159 non-null float64\n",
      "FKAccuracy                  18159 non-null float64\n",
      "LongPassing                 18159 non-null float64\n",
      "BallControl                 18159 non-null float64\n",
      "Acceleration                18159 non-null float64\n",
      "SprintSpeed                 18159 non-null float64\n",
      "Agility                     18159 non-null float64\n",
      "Reactions                   18159 non-null float64\n",
      "Balance                     18159 non-null float64\n",
      "ShotPower                   18159 non-null float64\n",
      "Jumping                     18159 non-null float64\n",
      "Stamina                     18159 non-null float64\n",
      "Strength                    18159 non-null float64\n",
      "LongShots                   18159 non-null float64\n",
      "Aggression                  18159 non-null float64\n",
      "Interceptions               18159 non-null float64\n",
      "Positioning                 18159 non-null float64\n",
      "Vision                      18159 non-null float64\n",
      "Penalties                   18159 non-null float64\n",
      "Composure                   18159 non-null float64\n",
      "Marking                     18159 non-null float64\n",
      "StandingTackle              18159 non-null float64\n",
      "SlidingTackle               18159 non-null float64\n",
      "GKDiving                    18159 non-null float64\n",
      "GKHandling                  18159 non-null float64\n",
      "GKKicking                   18159 non-null float64\n",
      "GKPositioning               18159 non-null float64\n",
      "GKReflexes                  18159 non-null float64\n",
      "Release Clause              16643 non-null object\n",
      "dtypes: float64(38), int64(6), object(45)\n",
      "memory usage: 12.4+ MB\n"
     ]
    }
   ],
   "source": [
    "fifa_df.info()"
   ]
  },
  {
   "cell_type": "code",
   "execution_count": 6,
   "metadata": {
    "_uuid": "48d106fab47ef60667e6cfcb1ea172e7f2680aa4"
   },
   "outputs": [],
   "source": [
    "# Try to get some useful features and this feature is not null\n",
    "useful_feat     = ['Name',\n",
    "                   'Age',\n",
    "                   'Photo', \n",
    "                   'Nationality', \n",
    "                   'Flag',\n",
    "                   'Overall',\n",
    "                   'Potential', \n",
    "                   'Club', \n",
    "                   'Club Logo', \n",
    "                   'Value',\n",
    "                   'Wage',\n",
    "                   'Preferred Foot',\n",
    "                   'International Reputation',\n",
    "                   'Weak Foot',\n",
    "                   'Skill Moves',\n",
    "                   'Work Rate',\n",
    "                   'Body Type',\n",
    "                   'Position',\n",
    "                   'Joined', \n",
    "                   'Contract Valid Until',\n",
    "                   'Height',\n",
    "                   'Weight',\n",
    "                   'Crossing', \n",
    "                   'Finishing',\n",
    "                   'HeadingAccuracy',\n",
    "                   'ShortPassing', \n",
    "                   'Volleys', \n",
    "                   'Dribbling',\n",
    "                   'Curve',\n",
    "                   'FKAccuracy',\n",
    "                   'LongPassing',\n",
    "                   'BallControl',\n",
    "                   'Acceleration',\n",
    "                    'SprintSpeed',\n",
    "                   'Agility',\n",
    "                   'Reactions', \n",
    "                   'Balance',\n",
    "                   'ShotPower', \n",
    "                   'Jumping',\n",
    "                   'Stamina', \n",
    "                   'Strength',\n",
    "                   'LongShots',\n",
    "                   'Aggression',\n",
    "                   'Interceptions',\n",
    "                   'Positioning', \n",
    "                   'Vision', \n",
    "                   'Penalties',\n",
    "                   'Composure',\n",
    "                   'Marking',\n",
    "                   'StandingTackle', \n",
    "                   'SlidingTackle',\n",
    "                   'GKDiving',\n",
    "                   'GKHandling',\n",
    "                   'GKKicking',\n",
    "                   'GKPositioning',\n",
    "                   'GKReflexes']\n"
   ]
  },
  {
   "cell_type": "code",
   "execution_count": 7,
   "metadata": {
    "_uuid": "824670b16fa8f4f94cbae4348914fec13011aad9"
   },
   "outputs": [],
   "source": [
    "df = pd.DataFrame(fifa_df, columns=useful_feat)"
   ]
  },
  {
   "cell_type": "markdown",
   "metadata": {
    "_uuid": "e83771285d32282e980fc0f41ce9b477b7e799cb"
   },
   "source": [
    " # Data exploration:"
   ]
  },
  {
   "cell_type": "code",
   "execution_count": 8,
   "metadata": {
    "_uuid": "57e85abb4350af6da006e3146603e3b8bd01480b"
   },
   "outputs": [
    {
     "data": {
      "text/plain": [
       "<matplotlib.axes._subplots.AxesSubplot at 0x11a8ddc88>"
      ]
     },
     "execution_count": 8,
     "metadata": {},
     "output_type": "execute_result"
    },
    {
     "data": {
      "image/png": "[encoded data removed]",
      "text/plain": [
       "<Figure size 864x864 with 2 Axes>"
      ]
     },
     "metadata": {
      "needs_background": "light"
     },
     "output_type": "display_data"
    }
   ],
   "source": [
    "fig=plt.figure(figsize=(12,12))\n",
    "sns.heatmap(data=df.isnull() )\n",
    "# we can see that there is still a lot of null data"
   ]
  },
  {
   "cell_type": "markdown",
   "metadata": {
    "_uuid": "bffa64bd818fa23e3fbf22083aa2d8b155472c79"
   },
   "source": [
    " # Age distribution of players"
   ]
  },
  {
   "cell_type": "code",
   "execution_count": 9,
   "metadata": {
    "_uuid": "1697ee6f76c7b5ce39f5ebce1e63cbd41a60ab75"
   },
   "outputs": [
    {
     "data": {
      "text/plain": [
       "Text(0.5, 1.0, 'Age distribution of all players')"
      ]
     },
     "execution_count": 9,
     "metadata": {},
     "output_type": "execute_result"
    },
    {
     "data": {
      "image/png": "[encoded data removed]",
      "text/plain": [
       "<Figure size 1296x504 with 1 Axes>"
      ]
     },
     "metadata": {
      "needs_background": "light"
     },
     "output_type": "display_data"
    }
   ],
   "source": [
    "# find the age distribution\n",
    "plt.figure(1, figsize=(18, 7))\n",
    "sns.countplot( x= 'Age', data=df, palette='Accent')\n",
    "plt.title('Age distribution of all players')\n",
    "# It seems most of the age is distributed form 19 ~ 30"
   ]
  },
  {
   "cell_type": "code",
   "execution_count": 10,
   "metadata": {
    "_uuid": "da6a27290b03d31809303107cc298aca570daf2c"
   },
   "outputs": [
    {
     "data": {
      "text/html": [
       "<div>\n",
       "<style scoped>\n",
       "    .dataframe tbody tr th:only-of-type {\n",
       "        vertical-align: middle;\n",
       "    }\n",
       "\n",
       "    .dataframe tbody tr th {\n",
       "        vertical-align: top;\n",
       "    }\n",
       "\n",
       "    .dataframe thead th {\n",
       "        text-align: right;\n",
       "    }\n",
       "</style>\n",
       "<table border=\"1\" class=\"dataframe\">\n",
       "  <thead>\n",
       "    <tr style=\"text-align: right;\">\n",
       "      <th></th>\n",
       "      <th>Name</th>\n",
       "      <th>Nationality</th>\n",
       "      <th>Club</th>\n",
       "      <th>Position</th>\n",
       "      <th>Overall</th>\n",
       "      <th>Age</th>\n",
       "    </tr>\n",
       "  </thead>\n",
       "  <tbody>\n",
       "    <tr>\n",
       "      <th>4741</th>\n",
       "      <td>O. Pérez</td>\n",
       "      <td>Mexico</td>\n",
       "      <td>Pachuca</td>\n",
       "      <td>GK</td>\n",
       "      <td>71</td>\n",
       "      <td>45</td>\n",
       "    </tr>\n",
       "    <tr>\n",
       "      <th>18183</th>\n",
       "      <td>K. Pilkington</td>\n",
       "      <td>England</td>\n",
       "      <td>Cambridge United</td>\n",
       "      <td>GK</td>\n",
       "      <td>48</td>\n",
       "      <td>44</td>\n",
       "    </tr>\n",
       "    <tr>\n",
       "      <th>17726</th>\n",
       "      <td>T. Warner</td>\n",
       "      <td>Trinidad &amp; Tobago</td>\n",
       "      <td>Accrington Stanley</td>\n",
       "      <td>GK</td>\n",
       "      <td>53</td>\n",
       "      <td>44</td>\n",
       "    </tr>\n",
       "    <tr>\n",
       "      <th>10545</th>\n",
       "      <td>S. Narazaki</td>\n",
       "      <td>Japan</td>\n",
       "      <td>Nagoya Grampus</td>\n",
       "      <td>GK</td>\n",
       "      <td>65</td>\n",
       "      <td>42</td>\n",
       "    </tr>\n",
       "    <tr>\n",
       "      <th>7225</th>\n",
       "      <td>C. Muñoz</td>\n",
       "      <td>Argentina</td>\n",
       "      <td>CD Universidad de Concepción</td>\n",
       "      <td>GK</td>\n",
       "      <td>68</td>\n",
       "      <td>41</td>\n",
       "    </tr>\n",
       "  </tbody>\n",
       "</table>\n",
       "</div>"
      ],
      "text/plain": [
       "                Name        Nationality                          Club  \\\n",
       "4741        O. Pérez             Mexico                       Pachuca   \n",
       "18183  K. Pilkington            England              Cambridge United   \n",
       "17726      T. Warner  Trinidad & Tobago            Accrington Stanley   \n",
       "10545    S. Narazaki              Japan                Nagoya Grampus   \n",
       "7225        C. Muñoz          Argentina  CD Universidad de Concepción   \n",
       "\n",
       "      Position  Overall  Age  \n",
       "4741        GK       71   45  \n",
       "18183       GK       48   44  \n",
       "17726       GK       53   44  \n",
       "10545       GK       65   42  \n",
       "7225        GK       68   41  "
      ]
     },
     "execution_count": 10,
     "metadata": {},
     "output_type": "execute_result"
    }
   ],
   "source": [
    "# Finding the eldest players\n",
    "df.sort_values(by= 'Age', ascending=False)[['Name','Nationality', 'Club', 'Position', 'Overall', 'Age']].head(5)"
   ]
  },
  {
   "cell_type": "code",
   "execution_count": 11,
   "metadata": {
    "_uuid": "156f241040f21b3edce66b0bc37a7eee161e2538"
   },
   "outputs": [
    {
     "data": {
      "text/html": [
       "<div>\n",
       "<style scoped>\n",
       "    .dataframe tbody tr th:only-of-type {\n",
       "        vertical-align: middle;\n",
       "    }\n",
       "\n",
       "    .dataframe tbody tr th {\n",
       "        vertical-align: top;\n",
       "    }\n",
       "\n",
       "    .dataframe thead th {\n",
       "        text-align: right;\n",
       "    }\n",
       "</style>\n",
       "<table border=\"1\" class=\"dataframe\">\n",
       "  <thead>\n",
       "    <tr style=\"text-align: right;\">\n",
       "      <th></th>\n",
       "      <th>Name</th>\n",
       "      <th>Nationality</th>\n",
       "      <th>Club</th>\n",
       "      <th>Position</th>\n",
       "      <th>Overall</th>\n",
       "      <th>Age</th>\n",
       "    </tr>\n",
       "  </thead>\n",
       "  <tbody>\n",
       "    <tr>\n",
       "      <th>18206</th>\n",
       "      <td>G. Nugent</td>\n",
       "      <td>England</td>\n",
       "      <td>Tranmere Rovers</td>\n",
       "      <td>CM</td>\n",
       "      <td>46</td>\n",
       "      <td>16</td>\n",
       "    </tr>\n",
       "    <tr>\n",
       "      <th>17743</th>\n",
       "      <td>J. Olstad</td>\n",
       "      <td>Norway</td>\n",
       "      <td>Sarpsborg 08 FF</td>\n",
       "      <td>ST</td>\n",
       "      <td>52</td>\n",
       "      <td>16</td>\n",
       "    </tr>\n",
       "    <tr>\n",
       "      <th>13293</th>\n",
       "      <td>H. Massengo</td>\n",
       "      <td>France</td>\n",
       "      <td>AS Monaco</td>\n",
       "      <td>CDM</td>\n",
       "      <td>62</td>\n",
       "      <td>16</td>\n",
       "    </tr>\n",
       "    <tr>\n",
       "      <th>16081</th>\n",
       "      <td>J. Italiano</td>\n",
       "      <td>Australia</td>\n",
       "      <td>Perth Glory</td>\n",
       "      <td>LM</td>\n",
       "      <td>58</td>\n",
       "      <td>16</td>\n",
       "    </tr>\n",
       "    <tr>\n",
       "      <th>18166</th>\n",
       "      <td>N. Ayéva</td>\n",
       "      <td>Sweden</td>\n",
       "      <td>Örebro SK</td>\n",
       "      <td>ST</td>\n",
       "      <td>48</td>\n",
       "      <td>16</td>\n",
       "    </tr>\n",
       "  </tbody>\n",
       "</table>\n",
       "</div>"
      ],
      "text/plain": [
       "              Name Nationality             Club Position  Overall  Age\n",
       "18206    G. Nugent     England  Tranmere Rovers       CM       46   16\n",
       "17743    J. Olstad      Norway  Sarpsborg 08 FF       ST       52   16\n",
       "13293  H. Massengo      France        AS Monaco      CDM       62   16\n",
       "16081  J. Italiano   Australia      Perth Glory       LM       58   16\n",
       "18166     N. Ayéva      Sweden        Örebro SK       ST       48   16"
      ]
     },
     "execution_count": 11,
     "metadata": {},
     "output_type": "execute_result"
    }
   ],
   "source": [
    "# Finding the youngest players\n",
    "df.sort_values(by= 'Age')[['Name','Nationality', 'Club', 'Position', 'Overall', 'Age']].head(5)"
   ]
  },
  {
   "cell_type": "code",
   "execution_count": 12,
   "metadata": {
    "_uuid": "1434555b59acb123c86221f07fa48cce76e4e16c"
   },
   "outputs": [
    {
     "data": {
      "image/png": "[encoded data removed]",
      "text/plain": [
       "<Figure size 1080x504 with 1 Axes>"
      ]
     },
     "metadata": {
      "needs_background": "light"
     },
     "output_type": "display_data"
    }
   ],
   "source": [
    "# Age distribution of famous clubs\n",
    "vals = ['Tottenham Hotspur' , 'Juventus' , 'Paris Sain-Germain' ,'FC Bayern München',\n",
    "       'Real Madrid' , 'FC Barcelona' , 'Borussia Dortmund' , 'Manchester United' , \n",
    "       'FC Porto' , 'As Monaco' , 'BSC Young Boys']\n",
    "df_club_age = df.loc[df['Club'].isin(vals) & df['Age']]\n",
    "plt.figure(1, figsize=(15, 7))\n",
    "sns.boxplot(x = 'Club', y = 'Age', data = df_club_age )\n",
    "plt.title('Age distribution in some clubs')\n",
    "plt.xticks(rotation=50)\n",
    "plt.show()\n",
    "# Real madrid is young, Juventus is not very young, Real Madrid perform very good in recent Champions League"
   ]
  },
  {
   "cell_type": "code",
   "execution_count": 13,
   "metadata": {
    "_uuid": "3a7371e0e9c7e7275c3da8d412d78e5ccd2b338c"
   },
   "outputs": [
    {
     "data": {
      "image/png": "[encoded data removed]",
      "text/plain": [
       "<Figure size 1080x504 with 1 Axes>"
      ]
     },
     "metadata": {
      "needs_background": "light"
     },
     "output_type": "display_data"
    }
   ],
   "source": [
    "# Age distribution in famous countries\n",
    "vals = ['England' , 'Brazil' , 'Portugal' ,'Argentina',\n",
    "       'Italy' , 'Spain' , 'Germany' , 'Russia' , \n",
    "       'Chile' , 'Japan' , 'India', 'France']\n",
    "df_age_country = df.loc[df['Nationality'].isin(vals) & df['Age'] ]\n",
    "plt.figure(1, figsize=(15, 7))\n",
    "sns.boxplot(x = 'Nationality', y = 'Age', data = df_age_country)\n",
    "plt.title('Age distribution in some countries')\n",
    "plt.xticks(rotation = 50)\n",
    "plt.show()\n",
    "# It seems very average"
   ]
  },
  {
   "cell_type": "markdown",
   "metadata": {
    "_uuid": "0db52b04c23c116a4f430aafeb5ee7747e5bf76b"
   },
   "source": [
    "# Players' value"
   ]
  },
  {
   "cell_type": "code",
   "execution_count": 14,
   "metadata": {
    "_uuid": "121c28343fae9de01bed6d78ba70b27c86e8615b"
   },
   "outputs": [],
   "source": [
    "# handle all the players\n",
    "def preprocess_value(x):\n",
    "    x = str(x).replace('€', '')\n",
    "    if('M' in str(x)):\n",
    "        x = str(x).replace('M', '')\n",
    "        x = float(x) * 1000000\n",
    "    elif('K' in str(x)):\n",
    "        x = str(x).replace('K', '')\n",
    "        x = float(x) * 1000\n",
    "    return float(x)\n",
    "\n",
    "df['Value'] = df['Value'].apply(preprocess_value)"
   ]
  },
  {
   "cell_type": "code",
   "execution_count": 15,
   "metadata": {
    "_uuid": "342a8d24f5dcfb31b4c1e1be0894a3e0a930f9e2"
   },
   "outputs": [
    {
     "data": {
      "text/plain": [
       "Text(0.5, 1.0, 'Value distribution of all players')"
      ]
     },
     "execution_count": 15,
     "metadata": {},
     "output_type": "execute_result"
    },
    {
     "data": {
      "image/png": "[encoded data removed]",
      "text/plain": [
       "<Figure size 1296x504 with 1 Axes>"
      ]
     },
     "metadata": {
      "needs_background": "light"
     },
     "output_type": "display_data"
    }
   ],
   "source": [
    "# Value ditribution\n",
    "plt.figure(1, figsize=(18, 7))\n",
    "sns.countplot( x= 'Value', data=df)\n",
    "plt.title('Value distribution of all players')"
   ]
  },
  {
   "cell_type": "code",
   "execution_count": 16,
   "metadata": {
    "_uuid": "ae71832a3a127e029fcd05839a1d10e02fe077bc"
   },
   "outputs": [
    {
     "data": {
      "text/plain": [
       "<matplotlib.axes._subplots.AxesSubplot at 0x126617400>"
      ]
     },
     "execution_count": 16,
     "metadata": {},
     "output_type": "execute_result"
    },
    {
     "data": {
      "image/png": "[encoded data removed]",
      "text/plain": [
       "<Figure size 432x288 with 1 Axes>"
      ]
     },
     "metadata": {
      "needs_background": "light"
     },
     "output_type": "display_data"
    }
   ],
   "source": [
    "# find the most expensive players\n",
    "val_ex=df.sort_values(by='Value', ascending=False)[['Name','Nationality', 'Club', 'Position', 'Overall', 'Value']].head(5)\n",
    "sns.barplot(x='Name',y='Value',data=val_ex)"
   ]
  },
  {
   "cell_type": "markdown",
   "metadata": {
    "_uuid": "27e18b642d8e64b5687f252cdd83ed102ee0ec74"
   },
   "source": [
    " # Club"
   ]
  },
  {
   "cell_type": "code",
   "execution_count": 17,
   "metadata": {
    "_uuid": "fe07d5431abe9f6e880b1af6338b83e61d9dd851"
   },
   "outputs": [
    {
     "data": {
      "text/plain": [
       "Club\n",
       "Juventus             2.817900e+07\n",
       "Real Madrid          2.649773e+07\n",
       "FC Barcelona         2.583636e+07\n",
       "Manchester City      2.383500e+07\n",
       "FC Bayern München    2.341466e+07\n",
       "Name: Value, dtype: float64"
      ]
     },
     "execution_count": 17,
     "metadata": {},
     "output_type": "execute_result"
    }
   ],
   "source": [
    "# Which club has the average expensive players\n",
    "Club_value = df.groupby('Club')['Value'].mean()\n",
    "Club_value.sort_values(ascending=False).head(5)"
   ]
  },
  {
   "cell_type": "code",
   "execution_count": 22,
   "metadata": {
    "_uuid": "3371c2fc529d4971439ff247946aef98a17c390e"
   },
   "outputs": [
    {
     "data": {
      "text/plain": [
       "Club\n",
       "Real Madrid          874425000.0\n",
       "FC Barcelona         852600000.0\n",
       "Manchester City      786555000.0\n",
       "Juventus             704475000.0\n",
       "FC Bayern München    679025000.0\n",
       "Name: Value, dtype: float64"
      ]
     },
     "execution_count": 22,
     "metadata": {},
     "output_type": "execute_result"
    }
   ],
   "source": [
    "# which club has the highest total value \n",
    "club_values =df.groupby('Club')['Value'].sum()\n",
    "club_values.sort_values(ascending=False).head(5)"
   ]
  },
  {
   "cell_type": "markdown",
   "metadata": {
    "_uuid": "b06bde22508f592fe256c242ecd8144f5d498020"
   },
   "source": [
    "# Nationality"
   ]
  },
  {
   "cell_type": "code",
   "execution_count": 23,
   "metadata": {
    "_uuid": "2065d1dd5b00d16b4877e267d2efb117f7fc094f"
   },
   "outputs": [
    {
     "data": {
      "text/plain": [
       "<matplotlib.axes._subplots.AxesSubplot at 0x126131208>"
      ]
     },
     "execution_count": 23,
     "metadata": {},
     "output_type": "execute_result"
    },
    {
     "data": {
      "image/png": "[encoded data removed]",
      "text/plain": [
       "<Figure size 1584x864 with 1 Axes>"
      ]
     },
     "metadata": {
      "needs_background": "light"
     },
     "output_type": "display_data"
    }
   ],
   "source": [
    "# Country wise player count\n",
    "plt.figure(1, figsize=(22, 12))\n",
    "plt.title(\"Which country produce the most players\")\n",
    "sns.countplot(y = \"Nationality\", order=df['Nationality'].value_counts().index[0:5] ,data=df)\n",
    "# England is rich at good football players"
   ]
  },
  {
   "cell_type": "markdown",
   "metadata": {
    "_uuid": "1e7136d349f8e9f9a432bf797362d8bdf3b0eb50"
   },
   "source": [
    "# Try to do the machine learning to predict the overall\n",
    "In this part we try to do the machine learning of the players overall, it seems we can't include the player of the goalkeeper"
   ]
  },
  {
   "cell_type": "code",
   "execution_count": 24,
   "metadata": {
    "_uuid": "a7ea8a609a35c110501acc10eedff563cfde9b0d"
   },
   "outputs": [],
   "source": [
    "# Include all the player except goalkeeper\n",
    "vals = ['RF', 'ST', 'LW', 'RCM', 'LF', 'RS', 'RCB', 'LCM', 'CB',\n",
    "       'LDM', 'CAM', 'CDM', 'LS', 'LCB', 'RM', 'LAM', 'LM', 'LB', 'RDM',\n",
    "       'RW', 'CM', 'RB', 'RAM', 'CF', 'RWB', 'LWB']\n",
    "ml_players= df.loc[df['Position'].isin(vals) & df['Position']]"
   ]
  },
  {
   "cell_type": "code",
   "execution_count": 25,
   "metadata": {
    "_uuid": "87beac087ebdb02ff21f077a3399c596b0cb338c"
   },
   "outputs": [],
   "source": [
    "# choose all the columns we need\n",
    "ml_cols =          ['Crossing', \n",
    "                   'Finishing',\n",
    "                   'HeadingAccuracy',\n",
    "                   'ShortPassing', \n",
    "                   'Volleys', \n",
    "                   'Dribbling',\n",
    "                   'Curve',\n",
    "                   'FKAccuracy',\n",
    "                   'LongPassing',\n",
    "                   'BallControl',\n",
    "                   'Acceleration',\n",
    "                    'SprintSpeed',\n",
    "                   'Agility',\n",
    "                   'Reactions', \n",
    "                   'Balance',\n",
    "                   'ShotPower', \n",
    "                   'Jumping',\n",
    "                   'Stamina', \n",
    "                   'Strength',\n",
    "                   'LongShots',\n",
    "                   'Aggression',\n",
    "                   'Interceptions',\n",
    "                   'Positioning', \n",
    "                   'Vision', \n",
    "                   'Penalties',\n",
    "                   'Composure',\n",
    "                   'Marking',\n",
    "                   'StandingTackle', \n",
    "                   'SlidingTackle',\n",
    "                    'Overall'\n",
    "                   ]"
   ]
  },
  {
   "cell_type": "code",
   "execution_count": 26,
   "metadata": {
    "_uuid": "b6b2a1a6cb0b9f1d2a8868ef6fac633b082426fe"
   },
   "outputs": [],
   "source": [
    "df_ml = pd.DataFrame(data=ml_players, columns=ml_cols)"
   ]
  },
  {
   "cell_type": "code",
   "execution_count": 27,
   "metadata": {
    "_uuid": "1069a126130c58fa862b66fd5e6c2db74d1de882"
   },
   "outputs": [
    {
     "name": "stdout",
     "output_type": "stream",
     "text": [
      "<class 'pandas.core.frame.DataFrame'>\n",
      "Int64Index: 16122 entries, 0 to 18206\n",
      "Data columns (total 30 columns):\n",
      "Crossing           16122 non-null float64\n",
      "Finishing          16122 non-null float64\n",
      "HeadingAccuracy    16122 non-null float64\n",
      "ShortPassing       16122 non-null float64\n",
      "Volleys            16122 non-null float64\n",
      "Dribbling          16122 non-null float64\n",
      "Curve              16122 non-null float64\n",
      "FKAccuracy         16122 non-null float64\n",
      "LongPassing        16122 non-null float64\n",
      "BallControl        16122 non-null float64\n",
      "Acceleration       16122 non-null float64\n",
      "SprintSpeed        16122 non-null float64\n",
      "Agility            16122 non-null float64\n",
      "Reactions          16122 non-null float64\n",
      "Balance            16122 non-null float64\n",
      "ShotPower          16122 non-null float64\n",
      "Jumping            16122 non-null float64\n",
      "Stamina            16122 non-null float64\n",
      "Strength           16122 non-null float64\n",
      "LongShots          16122 non-null float64\n",
      "Aggression         16122 non-null float64\n",
      "Interceptions      16122 non-null float64\n",
      "Positioning        16122 non-null float64\n",
      "Vision             16122 non-null float64\n",
      "Penalties          16122 non-null float64\n",
      "Composure          16122 non-null float64\n",
      "Marking            16122 non-null float64\n",
      "StandingTackle     16122 non-null float64\n",
      "SlidingTackle      16122 non-null float64\n",
      "Overall            16122 non-null int64\n",
      "dtypes: float64(29), int64(1)\n",
      "memory usage: 3.8 MB\n"
     ]
    }
   ],
   "source": [
    "# check the data\n",
    "df_ml.info()"
   ]
  },
  {
   "cell_type": "code",
   "execution_count": 28,
   "metadata": {
    "_uuid": "6fc2f3491466aa985725a17dc8db51989b6114bc"
   },
   "outputs": [
    {
     "data": {
      "text/plain": [
       "Crossing           False\n",
       "Finishing          False\n",
       "HeadingAccuracy    False\n",
       "ShortPassing       False\n",
       "Volleys            False\n",
       "Dribbling          False\n",
       "Curve              False\n",
       "FKAccuracy         False\n",
       "LongPassing        False\n",
       "BallControl        False\n",
       "Acceleration       False\n",
       "SprintSpeed        False\n",
       "Agility            False\n",
       "Reactions          False\n",
       "Balance            False\n",
       "ShotPower          False\n",
       "Jumping            False\n",
       "Stamina            False\n",
       "Strength           False\n",
       "LongShots          False\n",
       "Aggression         False\n",
       "Interceptions      False\n",
       "Positioning        False\n",
       "Vision             False\n",
       "Penalties          False\n",
       "Composure          False\n",
       "Marking            False\n",
       "StandingTackle     False\n",
       "SlidingTackle      False\n",
       "Overall            False\n",
       "dtype: bool"
      ]
     },
     "execution_count": 28,
     "metadata": {},
     "output_type": "execute_result"
    }
   ],
   "source": [
    "df_ml.isnull().any()"
   ]
  },
  {
   "cell_type": "code",
   "execution_count": 29,
   "metadata": {
    "_uuid": "4c45134175519aa3f4d5183fb514d3bda56f9763"
   },
   "outputs": [],
   "source": [
    "from sklearn.model_selection import train_test_split\n",
    "from sklearn.linear_model import LinearRegression"
   ]
  },
  {
   "cell_type": "code",
   "execution_count": 30,
   "metadata": {
    "_uuid": "3512e86e21f0926a1937c4a99adecf7b043d3504"
   },
   "outputs": [],
   "source": [
    "# Train test split\n",
    "y = df_ml['Overall']\n",
    "X = df_ml[['Crossing', \n",
    "           'Finishing',\n",
    "           'HeadingAccuracy',\n",
    "           'ShortPassing', \n",
    "           'Volleys', \n",
    "           'Dribbling',\n",
    "           'Curve',\n",
    "           'FKAccuracy',\n",
    "           'LongPassing',\n",
    "           'BallControl',\n",
    "           'Acceleration',\n",
    "            'SprintSpeed',\n",
    "           'Agility',\n",
    "           'Reactions', \n",
    "           'Balance',\n",
    "           'ShotPower', \n",
    "           'Jumping',\n",
    "           'Stamina', \n",
    "           'Strength',\n",
    "           'LongShots',\n",
    "           'Aggression',\n",
    "           'Interceptions',\n",
    "           'Positioning', \n",
    "           'Vision', \n",
    "           'Penalties',\n",
    "           'Composure',\n",
    "           'Marking',\n",
    "           'StandingTackle', \n",
    "           'SlidingTackle']]\n",
    "X_train, X_test, y_train, y_test = train_test_split(X, y, test_size = 0.2, random_state=101)"
   ]
  },
  {
   "cell_type": "code",
   "execution_count": 31,
   "metadata": {
    "_uuid": "fe7d316c77b41d5b72204ca60ab79e3f5747259b"
   },
   "outputs": [],
   "source": [
    "lm = LinearRegression()"
   ]
  },
  {
   "cell_type": "code",
   "execution_count": 32,
   "metadata": {
    "_uuid": "ff0d6363ecdc34dcf39644dee5d0b4f21c0b00a3"
   },
   "outputs": [
    {
     "name": "stderr",
     "output_type": "stream",
     "text": [
      "/Library/Frameworks/Python.framework/Versions/3.6/lib/python3.6/site-packages/sklearn/linear_model/base.py:485: RuntimeWarning: internal gelsd driver lwork query error, required iwork dimension not returned. This is likely the result of LAPACK bug 0038, fixed in LAPACK 3.2.2 (released July 21, 2010). Falling back to 'gelss' driver.\n",
      "  linalg.lstsq(X, y)\n"
     ]
    },
    {
     "data": {
      "text/plain": [
       "LinearRegression(copy_X=True, fit_intercept=True, n_jobs=None,\n",
       "         normalize=False)"
      ]
     },
     "execution_count": 32,
     "metadata": {},
     "output_type": "execute_result"
    }
   ],
   "source": [
    "lm.fit(X_train, y_train)"
   ]
  },
  {
   "cell_type": "code",
   "execution_count": 33,
   "metadata": {
    "_uuid": "51de3d3fecb8e9f7f59b5cc72f7dcc55c902178c"
   },
   "outputs": [
    {
     "name": "stdout",
     "output_type": "stream",
     "text": [
      "Coefficients: [ 0.01564887  0.03082833  0.08553646  0.10401865 -0.00222351  0.00179104\n",
      "  0.0071639   0.01035803 -0.01482419  0.16022195  0.04436857  0.03041178\n",
      " -0.0003876   0.2691366  -0.01649336  0.02136657  0.00264943  0.01348059\n",
      "  0.04530585 -0.01892626 -0.00041104  0.0010888  -0.05018072 -0.04278984\n",
      "  0.00849123  0.1458912   0.03476172  0.02442251 -0.02313741]\n"
     ]
    }
   ],
   "source": [
    "print('Coefficients:', lm.coef_)"
   ]
  },
  {
   "cell_type": "code",
   "execution_count": 34,
   "metadata": {
    "_uuid": "a9e8ef366bda55c28ff127824453d594c68913ac"
   },
   "outputs": [],
   "source": [
    "predictions = lm.predict(X_test)"
   ]
  },
  {
   "cell_type": "code",
   "execution_count": 35,
   "metadata": {
    "_uuid": "6b5a328fb6c8837e8a644a46f5e06e31afab8f5b"
   },
   "outputs": [
    {
     "data": {
      "text/plain": [
       "Text(0, 0.5, 'Predicted y')"
      ]
     },
     "execution_count": 35,
     "metadata": {},
     "output_type": "execute_result"
    },
    {
     "data": {
      "image/png": "[encoded data removed]",
      "text/plain": [
       "<Figure size 432x288 with 1 Axes>"
      ]
     },
     "metadata": {
      "needs_background": "light"
     },
     "output_type": "display_data"
    }
   ],
   "source": [
    "plt.scatter(y_test, predictions)\n",
    "plt.xlabel('Y Test')\n",
    "plt.ylabel('Predicted y')"
   ]
  },
  {
   "cell_type": "code",
   "execution_count": 36,
   "metadata": {
    "_uuid": "1427f853928c6ab440e729e0ccdaee6f6df4eba2"
   },
   "outputs": [
    {
     "name": "stdout",
     "output_type": "stream",
     "text": [
      "MAE 1.9419016477025783\n",
      "MSE 6.034732995940113\n",
      "RMSE 2.4565693550030523\n"
     ]
    }
   ],
   "source": [
    "# Evaluate the data\n",
    "from sklearn import metrics\n",
    "print(\"MAE\", metrics.mean_absolute_error(y_test, predictions))\n",
    "print(\"MSE\", metrics.mean_squared_error(y_test, predictions))\n",
    "print(\"RMSE\", np.sqrt(metrics.mean_squared_error(y_test, predictions)))\n",
    "#  the results seems perfect"
   ]
  },
  {
   "cell_type": "code",
   "execution_count": 37,
   "metadata": {
    "_uuid": "9712d9b042183a6367f38a8afcb72136cbb782bd"
   },
   "outputs": [
    {
     "data": {
      "text/plain": [
       "<matplotlib.axes._subplots.AxesSubplot at 0x1276de898>"
      ]
     },
     "execution_count": 37,
     "metadata": {},
     "output_type": "execute_result"
    },
    {
     "data": {
      "image/png": "[encoded data removed]",
      "text/plain": [
       "<Figure size 432x288 with 1 Axes>"
      ]
     },
     "metadata": {
      "needs_background": "light"
     },
     "output_type": "display_data"
    }
   ],
   "source": [
    "sns.distplot((y_test - predictions), bins=50)"
   ]
  },
  {
   "cell_type": "code",
   "execution_count": 38,
   "metadata": {
    "_uuid": "e94002218f8e91b3041cb9d6d580c0f78ddaff12"
   },
   "outputs": [
    {
     "data": {
      "text/html": [
       "<div>\n",
       "<style scoped>\n",
       "    .dataframe tbody tr th:only-of-type {\n",
       "        vertical-align: middle;\n",
       "    }\n",
       "\n",
       "    .dataframe tbody tr th {\n",
       "        vertical-align: top;\n",
       "    }\n",
       "\n",
       "    .dataframe thead th {\n",
       "        text-align: right;\n",
       "    }\n",
       "</style>\n",
       "<table border=\"1\" class=\"dataframe\">\n",
       "  <thead>\n",
       "    <tr style=\"text-align: right;\">\n",
       "      <th></th>\n",
       "      <th>Coeffecient</th>\n",
       "    </tr>\n",
       "  </thead>\n",
       "  <tbody>\n",
       "    <tr>\n",
       "      <th>Crossing</th>\n",
       "      <td>0.015649</td>\n",
       "    </tr>\n",
       "    <tr>\n",
       "      <th>Finishing</th>\n",
       "      <td>0.030828</td>\n",
       "    </tr>\n",
       "    <tr>\n",
       "      <th>HeadingAccuracy</th>\n",
       "      <td>0.085536</td>\n",
       "    </tr>\n",
       "    <tr>\n",
       "      <th>ShortPassing</th>\n",
       "      <td>0.104019</td>\n",
       "    </tr>\n",
       "    <tr>\n",
       "      <th>Volleys</th>\n",
       "      <td>-0.002224</td>\n",
       "    </tr>\n",
       "    <tr>\n",
       "      <th>Dribbling</th>\n",
       "      <td>0.001791</td>\n",
       "    </tr>\n",
       "    <tr>\n",
       "      <th>Curve</th>\n",
       "      <td>0.007164</td>\n",
       "    </tr>\n",
       "    <tr>\n",
       "      <th>FKAccuracy</th>\n",
       "      <td>0.010358</td>\n",
       "    </tr>\n",
       "    <tr>\n",
       "      <th>LongPassing</th>\n",
       "      <td>-0.014824</td>\n",
       "    </tr>\n",
       "    <tr>\n",
       "      <th>BallControl</th>\n",
       "      <td>0.160222</td>\n",
       "    </tr>\n",
       "    <tr>\n",
       "      <th>Acceleration</th>\n",
       "      <td>0.044369</td>\n",
       "    </tr>\n",
       "    <tr>\n",
       "      <th>SprintSpeed</th>\n",
       "      <td>0.030412</td>\n",
       "    </tr>\n",
       "    <tr>\n",
       "      <th>Agility</th>\n",
       "      <td>-0.000388</td>\n",
       "    </tr>\n",
       "    <tr>\n",
       "      <th>Reactions</th>\n",
       "      <td>0.269137</td>\n",
       "    </tr>\n",
       "    <tr>\n",
       "      <th>Balance</th>\n",
       "      <td>-0.016493</td>\n",
       "    </tr>\n",
       "    <tr>\n",
       "      <th>ShotPower</th>\n",
       "      <td>0.021367</td>\n",
       "    </tr>\n",
       "    <tr>\n",
       "      <th>Jumping</th>\n",
       "      <td>0.002649</td>\n",
       "    </tr>\n",
       "    <tr>\n",
       "      <th>Stamina</th>\n",
       "      <td>0.013481</td>\n",
       "    </tr>\n",
       "    <tr>\n",
       "      <th>Strength</th>\n",
       "      <td>0.045306</td>\n",
       "    </tr>\n",
       "    <tr>\n",
       "      <th>LongShots</th>\n",
       "      <td>-0.018926</td>\n",
       "    </tr>\n",
       "    <tr>\n",
       "      <th>Aggression</th>\n",
       "      <td>-0.000411</td>\n",
       "    </tr>\n",
       "    <tr>\n",
       "      <th>Interceptions</th>\n",
       "      <td>0.001089</td>\n",
       "    </tr>\n",
       "    <tr>\n",
       "      <th>Positioning</th>\n",
       "      <td>-0.050181</td>\n",
       "    </tr>\n",
       "    <tr>\n",
       "      <th>Vision</th>\n",
       "      <td>-0.042790</td>\n",
       "    </tr>\n",
       "    <tr>\n",
       "      <th>Penalties</th>\n",
       "      <td>0.008491</td>\n",
       "    </tr>\n",
       "    <tr>\n",
       "      <th>Composure</th>\n",
       "      <td>0.145891</td>\n",
       "    </tr>\n",
       "    <tr>\n",
       "      <th>Marking</th>\n",
       "      <td>0.034762</td>\n",
       "    </tr>\n",
       "    <tr>\n",
       "      <th>StandingTackle</th>\n",
       "      <td>0.024423</td>\n",
       "    </tr>\n",
       "    <tr>\n",
       "      <th>SlidingTackle</th>\n",
       "      <td>-0.023137</td>\n",
       "    </tr>\n",
       "  </tbody>\n",
       "</table>\n",
       "</div>"
      ],
      "text/plain": [
       "                 Coeffecient\n",
       "Crossing            0.015649\n",
       "Finishing           0.030828\n",
       "HeadingAccuracy     0.085536\n",
       "ShortPassing        0.104019\n",
       "Volleys            -0.002224\n",
       "Dribbling           0.001791\n",
       "Curve               0.007164\n",
       "FKAccuracy          0.010358\n",
       "LongPassing        -0.014824\n",
       "BallControl         0.160222\n",
       "Acceleration        0.044369\n",
       "SprintSpeed         0.030412\n",
       "Agility            -0.000388\n",
       "Reactions           0.269137\n",
       "Balance            -0.016493\n",
       "ShotPower           0.021367\n",
       "Jumping             0.002649\n",
       "Stamina             0.013481\n",
       "Strength            0.045306\n",
       "LongShots          -0.018926\n",
       "Aggression         -0.000411\n",
       "Interceptions       0.001089\n",
       "Positioning        -0.050181\n",
       "Vision             -0.042790\n",
       "Penalties           0.008491\n",
       "Composure           0.145891\n",
       "Marking             0.034762\n",
       "StandingTackle      0.024423\n",
       "SlidingTackle      -0.023137"
      ]
     },
     "execution_count": 38,
     "metadata": {},
     "output_type": "execute_result"
    }
   ],
   "source": [
    "# Get the effect of every parameter\n",
    "coeffecients = pd.DataFrame(lm.coef_, X.columns)\n",
    "coeffecients.columns = ['Coeffecient']\n",
    "coeffecients"
   ]
  },
  {
   "cell_type": "markdown",
   "metadata": {
    "_uuid": "13c80bcf3240cf17ca18b7524dbd8d7f08107c0a"
   },
   "source": [
    "* It seems ball control, short passing, composure is the key role in the game."
   ]
  },
  {
   "cell_type": "code",
   "execution_count": null,
   "metadata": {},
   "outputs": [],
   "source": []
  }
 ],
 "metadata": {
  "kernelspec": {
   "display_name": "Python 3",
   "language": "python",
   "name": "python3"
  },
  "language_info": {
   "codemirror_mode": {
    "name": "ipython",
    "version": 3
   },
   "file_extension": ".py",
   "mimetype": "text/x-python",
   "name": "python",
   "nbconvert_exporter": "python",
   "pygments_lexer": "ipython3",
   "version": "3.6.4"
  }
 },
 "nbformat": 4,
 "nbformat_minor": 1
}
